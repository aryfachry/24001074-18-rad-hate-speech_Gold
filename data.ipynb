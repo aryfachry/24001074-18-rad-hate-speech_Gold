{
 "cells": [
  {
   "cell_type": "code",
   "execution_count": 1,
   "metadata": {},
   "outputs": [],
   "source": [
    "import sqlite3\n",
    "\n",
    "conn = sqlite3.connect(\"cleaned_result.db\")\n",
    "# Connect to database"
   ]
  },
  {
   "cell_type": "code",
   "execution_count": 2,
   "metadata": {
    "vscode": {
     "languageId": "sql"
    }
   },
   "outputs": [],
   "source": [
    "import pandas as pd\n",
    "conn = sqlite3.connect('cleaned_result.db')\n",
    "\n",
    "df = pd.read_sql_query('''\n",
    "    SELECT * FROM tweet_table;\n",
    "    ''', conn)\n",
    "\n",
    "conn.commit()\n",
    "conn.close()"
   ]
  },
  {
   "cell_type": "code",
   "execution_count": 3,
   "metadata": {
    "vscode": {
     "languageId": "sql"
    }
   },
   "outputs": [
    {
     "data": {
      "text/html": [
       "<div>\n",
       "<style scoped>\n",
       "    .dataframe tbody tr th:only-of-type {\n",
       "        vertical-align: middle;\n",
       "    }\n",
       "\n",
       "    .dataframe tbody tr th {\n",
       "        vertical-align: top;\n",
       "    }\n",
       "\n",
       "    .dataframe thead th {\n",
       "        text-align: right;\n",
       "    }\n",
       "</style>\n",
       "<table border=\"1\" class=\"dataframe\">\n",
       "  <thead>\n",
       "    <tr style=\"text-align: right;\">\n",
       "      <th></th>\n",
       "      <th>Tweet_Cleaned</th>\n",
       "      <th>Tweet_Unclean</th>\n",
       "    </tr>\n",
       "  </thead>\n",
       "  <tbody>\n",
       "    <tr>\n",
       "      <th>0</th>\n",
       "      <td>di saat semua cowok berusaha melacak perhatian...</td>\n",
       "      <td>- disaat semua cowok berusaha melacak perhatia...</td>\n",
       "    </tr>\n",
       "    <tr>\n",
       "      <th>1</th>\n",
       "      <td>siapa yang telat memberi tau kamu gue bergaul ...</td>\n",
       "      <td>RT USER: USER siapa yang telat ngasih tau elu?...</td>\n",
       "    </tr>\n",
       "    <tr>\n",
       "      <th>2</th>\n",
       "      <td>41 kadang aku berpikir kenapa aku tetap percay...</td>\n",
       "      <td>41. Kadang aku berfikir, kenapa aku tetap perc...</td>\n",
       "    </tr>\n",
       "    <tr>\n",
       "      <th>3</th>\n",
       "      <td>aku itu akunnku tau matamu tapi dilihat dari m...</td>\n",
       "      <td>USER USER AKU ITU AKU\\n\\nKU TAU MATAMU SIPIT T...</td>\n",
       "    </tr>\n",
       "    <tr>\n",
       "      <th>4</th>\n",
       "      <td>kaum ce kafir sudah kelihatan nya dari awal ta...</td>\n",
       "      <td>USER USER Kaum cebong kapir udah keliatan dong...</td>\n",
       "    </tr>\n",
       "    <tr>\n",
       "      <th>...</th>\n",
       "      <td>...</td>\n",
       "      <td>...</td>\n",
       "    </tr>\n",
       "    <tr>\n",
       "      <th>39064</th>\n",
       "      <td>jangan asal berbicara ndasmu kamu yang sekata ...</td>\n",
       "      <td>USER jangan asal ngomong ndasmu. congor lu yg ...</td>\n",
       "    </tr>\n",
       "    <tr>\n",
       "      <th>39065</th>\n",
       "      <td>kasur mana enak</td>\n",
       "      <td>USER Kasur mana enak kunyuk'</td>\n",
       "    </tr>\n",
       "    <tr>\n",
       "      <th>39066</th>\n",
       "      <td>hati hati gnnlagi bosan duh</td>\n",
       "      <td>USER Hati hati bisu :( .g\\n\\nlagi bosan huft \\...</td>\n",
       "    </tr>\n",
       "    <tr>\n",
       "      <th>39067</th>\n",
       "      <td>bom yang real mudah terdeteksi bom yang terkub...</td>\n",
       "      <td>USER USER USER USER Bom yang real mudah terdet...</td>\n",
       "    </tr>\n",
       "    <tr>\n",
       "      <th>39068</th>\n",
       "      <td>mana situ memberi itu cuma foto ya kutil</td>\n",
       "      <td>USER Mana situ ngasih(\": itu cuma foto ya kuti...</td>\n",
       "    </tr>\n",
       "  </tbody>\n",
       "</table>\n",
       "<p>39069 rows × 2 columns</p>\n",
       "</div>"
      ],
      "text/plain": [
       "                                           Tweet_Cleaned  \\\n",
       "0      di saat semua cowok berusaha melacak perhatian...   \n",
       "1      siapa yang telat memberi tau kamu gue bergaul ...   \n",
       "2      41 kadang aku berpikir kenapa aku tetap percay...   \n",
       "3      aku itu akunnku tau matamu tapi dilihat dari m...   \n",
       "4      kaum ce kafir sudah kelihatan nya dari awal ta...   \n",
       "...                                                  ...   \n",
       "39064  jangan asal berbicara ndasmu kamu yang sekata ...   \n",
       "39065                                    kasur mana enak   \n",
       "39066                        hati hati gnnlagi bosan duh   \n",
       "39067  bom yang real mudah terdeteksi bom yang terkub...   \n",
       "39068           mana situ memberi itu cuma foto ya kutil   \n",
       "\n",
       "                                           Tweet_Unclean  \n",
       "0      - disaat semua cowok berusaha melacak perhatia...  \n",
       "1      RT USER: USER siapa yang telat ngasih tau elu?...  \n",
       "2      41. Kadang aku berfikir, kenapa aku tetap perc...  \n",
       "3      USER USER AKU ITU AKU\\n\\nKU TAU MATAMU SIPIT T...  \n",
       "4      USER USER Kaum cebong kapir udah keliatan dong...  \n",
       "...                                                  ...  \n",
       "39064  USER jangan asal ngomong ndasmu. congor lu yg ...  \n",
       "39065                       USER Kasur mana enak kunyuk'  \n",
       "39066  USER Hati hati bisu :( .g\\n\\nlagi bosan huft \\...  \n",
       "39067  USER USER USER USER Bom yang real mudah terdet...  \n",
       "39068  USER Mana situ ngasih(\": itu cuma foto ya kuti...  \n",
       "\n",
       "[39069 rows x 2 columns]"
      ]
     },
     "execution_count": 3,
     "metadata": {},
     "output_type": "execute_result"
    }
   ],
   "source": [
    "df"
   ]
  }
 ],
 "metadata": {
  "kernelspec": {
   "display_name": "Python 3",
   "language": "python",
   "name": "python3"
  },
  "language_info": {
   "codemirror_mode": {
    "name": "ipython",
    "version": 3
   },
   "file_extension": ".py",
   "mimetype": "text/x-python",
   "name": "python",
   "nbconvert_exporter": "python",
   "pygments_lexer": "ipython3",
   "version": "3.10.2"
  }
 },
 "nbformat": 4,
 "nbformat_minor": 2
}
